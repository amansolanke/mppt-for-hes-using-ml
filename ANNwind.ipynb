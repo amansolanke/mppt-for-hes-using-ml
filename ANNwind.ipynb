{
 "cells": [
  {
   "cell_type": "code",
   "execution_count": 24,
   "metadata": {},
   "outputs": [],
   "source": [
    "import numpy as np\n",
    "import pandas as pd\n",
    "import tensorflow as tf\n",
    "import scipy\n",
    "from tensorflow import keras\n",
    "from tensorflow.keras import layers\n",
    "from tensorflow.keras import callbacks\n",
    "from tensorflow.keras import Sequential\n",
    "from sklearn.model_selection import train_test_split"
   ]
  },
  {
   "cell_type": "code",
   "execution_count": 25,
   "metadata": {},
   "outputs": [
    {
     "data": {
      "text/html": [
       "<div>\n",
       "<style scoped>\n",
       "    .dataframe tbody tr th:only-of-type {\n",
       "        vertical-align: middle;\n",
       "    }\n",
       "\n",
       "    .dataframe tbody tr th {\n",
       "        vertical-align: top;\n",
       "    }\n",
       "\n",
       "    .dataframe thead th {\n",
       "        text-align: right;\n",
       "    }\n",
       "</style>\n",
       "<table border=\"1\" class=\"dataframe\">\n",
       "  <thead>\n",
       "    <tr style=\"text-align: right;\">\n",
       "      <th></th>\n",
       "      <th>YEAR</th>\n",
       "      <th>MO</th>\n",
       "      <th>DY</th>\n",
       "      <th>HR</th>\n",
       "      <th>WS10M</th>\n",
       "      <th>Pmax</th>\n",
       "      <th>omega_for_Pmax</th>\n",
       "    </tr>\n",
       "  </thead>\n",
       "  <tbody>\n",
       "    <tr>\n",
       "      <th>0</th>\n",
       "      <td>2001</td>\n",
       "      <td>1</td>\n",
       "      <td>1</td>\n",
       "      <td>5</td>\n",
       "      <td>2.17</td>\n",
       "      <td>35.671966</td>\n",
       "      <td>8.71</td>\n",
       "    </tr>\n",
       "    <tr>\n",
       "      <th>1</th>\n",
       "      <td>2001</td>\n",
       "      <td>1</td>\n",
       "      <td>1</td>\n",
       "      <td>6</td>\n",
       "      <td>2.69</td>\n",
       "      <td>67.952392</td>\n",
       "      <td>10.80</td>\n",
       "    </tr>\n",
       "    <tr>\n",
       "      <th>2</th>\n",
       "      <td>2001</td>\n",
       "      <td>1</td>\n",
       "      <td>1</td>\n",
       "      <td>7</td>\n",
       "      <td>3.77</td>\n",
       "      <td>187.056080</td>\n",
       "      <td>15.14</td>\n",
       "    </tr>\n",
       "    <tr>\n",
       "      <th>3</th>\n",
       "      <td>2001</td>\n",
       "      <td>1</td>\n",
       "      <td>1</td>\n",
       "      <td>8</td>\n",
       "      <td>4.10</td>\n",
       "      <td>240.602138</td>\n",
       "      <td>16.46</td>\n",
       "    </tr>\n",
       "    <tr>\n",
       "      <th>4</th>\n",
       "      <td>2001</td>\n",
       "      <td>1</td>\n",
       "      <td>1</td>\n",
       "      <td>9</td>\n",
       "      <td>3.89</td>\n",
       "      <td>205.492828</td>\n",
       "      <td>15.62</td>\n",
       "    </tr>\n",
       "  </tbody>\n",
       "</table>\n",
       "</div>"
      ],
      "text/plain": [
       "   YEAR  MO  DY  HR  WS10M        Pmax  omega_for_Pmax\n",
       "0  2001   1   1   5   2.17   35.671966            8.71\n",
       "1  2001   1   1   6   2.69   67.952392           10.80\n",
       "2  2001   1   1   7   3.77  187.056080           15.14\n",
       "3  2001   1   1   8   4.10  240.602138           16.46\n",
       "4  2001   1   1   9   3.89  205.492828           15.62"
      ]
     },
     "execution_count": 25,
     "metadata": {},
     "output_type": "execute_result"
    }
   ],
   "source": [
    "datawind = pd.read_csv('windData_with_Pmax.csv')\n",
    "datawind.head()"
   ]
  },
  {
   "cell_type": "code",
   "execution_count": 26,
   "metadata": {},
   "outputs": [
    {
     "data": {
      "text/plain": [
       "(200952, 3)"
      ]
     },
     "execution_count": 26,
     "metadata": {},
     "output_type": "execute_result"
    }
   ],
   "source": [
    "datawind = datawind.drop('YEAR', axis = 1)\n",
    "datawind = datawind.drop('MO', axis = 1)\n",
    "datawind = datawind.drop('DY', axis = 1)\n",
    "datawind = datawind.drop('HR', axis = 1)\n",
    "#datawind = datawind.head(2000)\n",
    "datawind.shape"
   ]
  },
  {
   "cell_type": "code",
   "execution_count": 27,
   "metadata": {},
   "outputs": [
    {
     "name": "stdout",
     "output_type": "stream",
     "text": [
      "<class 'pandas.core.frame.DataFrame'>\n",
      "RangeIndex: 200952 entries, 0 to 200951\n",
      "Data columns (total 1 columns):\n",
      " #   Column  Non-Null Count   Dtype  \n",
      "---  ------  --------------   -----  \n",
      " 0   WS10M   200952 non-null  float64\n",
      "dtypes: float64(1)\n",
      "memory usage: 1.5 MB\n",
      "<class 'pandas.core.frame.DataFrame'>\n",
      "RangeIndex: 200952 entries, 0 to 200951\n",
      "Data columns (total 2 columns):\n",
      " #   Column          Non-Null Count   Dtype  \n",
      "---  ------          --------------   -----  \n",
      " 0   Pmax            200952 non-null  float64\n",
      " 1   omega_for_Pmax  200952 non-null  float64\n",
      "dtypes: float64(2)\n",
      "memory usage: 3.1 MB\n",
      "<class 'pandas.core.frame.DataFrame'>\n",
      "Index: 150714 entries, 41592 to 45940\n",
      "Data columns (total 1 columns):\n",
      " #   Column  Non-Null Count   Dtype  \n",
      "---  ------  --------------   -----  \n",
      " 0   WS10M   150714 non-null  float64\n",
      "dtypes: float64(1)\n",
      "memory usage: 2.3 MB\n",
      "<class 'pandas.core.frame.DataFrame'>\n",
      "Index: 50238 entries, 105966 to 99474\n",
      "Data columns (total 1 columns):\n",
      " #   Column  Non-Null Count  Dtype  \n",
      "---  ------  --------------  -----  \n",
      " 0   WS10M   50238 non-null  float64\n",
      "dtypes: float64(1)\n",
      "memory usage: 785.0 KB\n",
      "<class 'pandas.core.frame.DataFrame'>\n",
      "Index: 150714 entries, 41592 to 45940\n",
      "Data columns (total 2 columns):\n",
      " #   Column          Non-Null Count   Dtype  \n",
      "---  ------          --------------   -----  \n",
      " 0   Pmax            150714 non-null  float64\n",
      " 1   omega_for_Pmax  150714 non-null  float64\n",
      "dtypes: float64(2)\n",
      "memory usage: 3.4 MB\n",
      "<class 'pandas.core.frame.DataFrame'>\n",
      "Index: 50238 entries, 105966 to 99474\n",
      "Data columns (total 2 columns):\n",
      " #   Column          Non-Null Count  Dtype  \n",
      "---  ------          --------------  -----  \n",
      " 0   Pmax            50238 non-null  float64\n",
      " 1   omega_for_Pmax  50238 non-null  float64\n",
      "dtypes: float64(2)\n",
      "memory usage: 1.1 MB\n"
     ]
    }
   ],
   "source": [
    "Ywind = datawind[['Pmax', 'omega_for_Pmax']]\n",
    "Xwind = datawind[['WS10M']]\n",
    "Xwind.info()\n",
    "Ywind.info()\n",
    "\n",
    "Xwind_train, Xwind_test, Ywind_train, Ywind_test = train_test_split(Xwind,Ywind,train_size = 0.75)\n",
    "\n",
    "Xwind_train.info()\n",
    "Xwind_test.info()\n",
    "Ywind_train.info()\n",
    "Ywind_test.info()"
   ]
  },
  {
   "cell_type": "code",
   "execution_count": 28,
   "metadata": {},
   "outputs": [
    {
     "name": "stdout",
     "output_type": "stream",
     "text": [
      "Epoch 1/100\n",
      "3015/3015 [==============================] - 5s 1ms/step - loss: 12343.7275 - mse: 12343.7275 - val_loss: 672.2183 - val_mse: 672.2183\n",
      "Epoch 2/100\n",
      "3015/3015 [==============================] - 3s 1ms/step - loss: 1334.1207 - mse: 1334.1207 - val_loss: 169.2932 - val_mse: 169.2932\n",
      "Epoch 3/100\n",
      "3015/3015 [==============================] - 3s 1ms/step - loss: 1174.3575 - mse: 1174.3575 - val_loss: 158.1131 - val_mse: 158.1131\n",
      "Epoch 4/100\n",
      "3015/3015 [==============================] - 3s 1ms/step - loss: 1151.0627 - mse: 1151.0627 - val_loss: 174.4373 - val_mse: 174.4373\n",
      "Epoch 5/100\n",
      "3015/3015 [==============================] - 3s 1ms/step - loss: 1066.5553 - mse: 1066.5553 - val_loss: 161.6617 - val_mse: 161.6617\n",
      "Epoch 6/100\n",
      "3015/3015 [==============================] - 3s 1ms/step - loss: 1046.8143 - mse: 1046.8143 - val_loss: 166.4654 - val_mse: 166.4654\n",
      "Epoch 7/100\n",
      "3015/3015 [==============================] - 3s 1ms/step - loss: 1066.1669 - mse: 1066.1669 - val_loss: 151.9022 - val_mse: 151.9022\n",
      "Epoch 8/100\n",
      "3015/3015 [==============================] - 3s 1ms/step - loss: 1041.6140 - mse: 1041.6140 - val_loss: 151.9271 - val_mse: 151.9271\n",
      "Epoch 9/100\n",
      "3015/3015 [==============================] - 3s 1ms/step - loss: 1025.5195 - mse: 1025.5195 - val_loss: 154.5087 - val_mse: 154.5087\n",
      "Epoch 10/100\n",
      "3015/3015 [==============================] - 3s 1ms/step - loss: 1026.5607 - mse: 1026.5607 - val_loss: 280.7139 - val_mse: 280.7139\n",
      "Epoch 11/100\n",
      "3015/3015 [==============================] - 3s 1ms/step - loss: 1001.3898 - mse: 1001.3898 - val_loss: 152.1030 - val_mse: 152.1030\n",
      "Epoch 12/100\n",
      "3015/3015 [==============================] - 3s 1ms/step - loss: 1015.0944 - mse: 1015.0944 - val_loss: 209.9561 - val_mse: 209.9561\n",
      "Epoch 13/100\n",
      "3015/3015 [==============================] - 3s 1ms/step - loss: 997.0577 - mse: 997.0577 - val_loss: 162.6500 - val_mse: 162.6500\n",
      "Epoch 14/100\n",
      "3015/3015 [==============================] - 3s 1ms/step - loss: 967.6435 - mse: 967.6435 - val_loss: 152.2711 - val_mse: 152.2711\n",
      "Epoch 15/100\n",
      "3015/3015 [==============================] - 3s 1ms/step - loss: 994.5750 - mse: 994.5750 - val_loss: 166.7796 - val_mse: 166.7796\n",
      "Epoch 16/100\n",
      "3015/3015 [==============================] - 3s 1ms/step - loss: 1000.2603 - mse: 1000.2603 - val_loss: 177.2486 - val_mse: 177.2486\n",
      "Epoch 17/100\n",
      "3015/3015 [==============================] - 3s 1ms/step - loss: 999.7812 - mse: 999.7812 - val_loss: 173.7895 - val_mse: 173.7895\n",
      "Epoch 18/100\n",
      "3015/3015 [==============================] - 3s 1ms/step - loss: 980.6247 - mse: 980.6247 - val_loss: 157.8553 - val_mse: 157.8553\n",
      "Epoch 19/100\n",
      "3015/3015 [==============================] - 3s 1ms/step - loss: 996.5206 - mse: 996.5206 - val_loss: 149.6205 - val_mse: 149.6205\n",
      "Epoch 20/100\n",
      "3015/3015 [==============================] - 3s 1ms/step - loss: 979.0998 - mse: 979.0997 - val_loss: 303.0608 - val_mse: 303.0608\n",
      "Epoch 21/100\n",
      "3015/3015 [==============================] - 4s 1ms/step - loss: 979.4573 - mse: 979.4573 - val_loss: 174.0091 - val_mse: 174.0092\n",
      "Epoch 22/100\n",
      "3015/3015 [==============================] - 3s 1ms/step - loss: 980.4312 - mse: 980.4312 - val_loss: 150.6473 - val_mse: 150.6473\n",
      "Epoch 23/100\n",
      "3015/3015 [==============================] - 3s 1ms/step - loss: 963.8368 - mse: 963.8368 - val_loss: 150.4688 - val_mse: 150.4688\n",
      "Epoch 24/100\n",
      "3015/3015 [==============================] - 3s 1ms/step - loss: 1021.9768 - mse: 1021.9768 - val_loss: 159.3185 - val_mse: 159.3185\n",
      "Epoch 25/100\n",
      "3015/3015 [==============================] - 6s 2ms/step - loss: 996.7332 - mse: 996.7332 - val_loss: 167.7654 - val_mse: 167.7654\n",
      "Epoch 26/100\n",
      "3015/3015 [==============================] - 9s 3ms/step - loss: 952.7546 - mse: 952.7546 - val_loss: 153.0782 - val_mse: 153.0782\n",
      "Epoch 27/100\n",
      "3015/3015 [==============================] - 10s 3ms/step - loss: 952.7214 - mse: 952.7214 - val_loss: 156.0847 - val_mse: 156.0847\n",
      "Epoch 28/100\n",
      "3015/3015 [==============================] - 11s 4ms/step - loss: 974.1246 - mse: 974.1246 - val_loss: 155.9442 - val_mse: 155.9442\n",
      "Epoch 29/100\n",
      "3015/3015 [==============================] - 10s 3ms/step - loss: 957.4227 - mse: 957.4227 - val_loss: 170.1873 - val_mse: 170.1873\n",
      "Epoch 30/100\n",
      "3015/3015 [==============================] - 6s 2ms/step - loss: 958.7866 - mse: 958.7866 - val_loss: 186.9978 - val_mse: 186.9978\n",
      "Epoch 31/100\n",
      "3015/3015 [==============================] - 3s 1ms/step - loss: 966.3631 - mse: 966.3632 - val_loss: 166.9332 - val_mse: 166.9332\n",
      "Epoch 32/100\n",
      "3015/3015 [==============================] - 3s 1ms/step - loss: 974.5146 - mse: 974.5146 - val_loss: 173.5461 - val_mse: 173.5461\n",
      "Epoch 33/100\n",
      "3015/3015 [==============================] - 3s 1ms/step - loss: 963.9268 - mse: 963.9268 - val_loss: 153.2965 - val_mse: 153.2965\n",
      "Epoch 34/100\n",
      "3015/3015 [==============================] - 3s 1ms/step - loss: 970.9471 - mse: 970.9471 - val_loss: 150.6112 - val_mse: 150.6112\n"
     ]
    }
   ],
   "source": [
    "modelwind = keras.Sequential([\n",
    "    layers.Dense(units = 50, activation = 'relu', input_shape = [1]),\n",
    "    layers.Dense(units = 50, activation = 'relu'),\n",
    "    layers.Dropout(0.25),\n",
    "    layers.Dense(units = 2, activation = 'linear')\n",
    "])\n",
    "\n",
    "modelwind.compile(\n",
    "    optimizer = 'adam',\n",
    "    loss = 'mse',\n",
    "    metrics = ['mse']\n",
    ")\n",
    "\n",
    "early_stopping = callbacks.EarlyStopping(\n",
    "    min_delta = 0.001,\n",
    "    patience = 15,\n",
    "    restore_best_weights = True\n",
    ")\n",
    "\n",
    "history = modelwind.fit(\n",
    "    Xwind_train, Ywind_train,\n",
    "    validation_data = (Xwind_test, Ywind_test),\n",
    "    batch_size = 50,\n",
    "    epochs = 100,\n",
    "    callbacks = [early_stopping]\n",
    ")"
   ]
  },
  {
   "cell_type": "code",
   "execution_count": 29,
   "metadata": {},
   "outputs": [
    {
     "data": {
      "text/plain": [
       "<Axes: >"
      ]
     },
     "execution_count": 29,
     "metadata": {},
     "output_type": "execute_result"
    },
    {
     "data": {
      "image/png": "[encoded data removed]",
      "text/plain": [
       "<Figure size 640x480 with 1 Axes>"
      ]
     },
     "metadata": {},
     "output_type": "display_data"
    }
   ],
   "source": [
    "import matplotlib as plt\n",
    "%matplotlib inline\n",
    "\n",
    "history_df = pd.DataFrame(history.history)\n",
    "history_df.loc[:, ['loss', 'val_loss']].plot()"
   ]
  },
  {
   "cell_type": "code",
   "execution_count": 30,
   "metadata": {},
   "outputs": [
    {
     "data": {
      "text/plain": [
       "<Axes: >"
      ]
     },
     "execution_count": 30,
     "metadata": {},
     "output_type": "execute_result"
    },
    {
     "data": {
      "image/png": "[encoded data removed]",
      "text/plain": [
       "<Figure size 640x480 with 1 Axes>"
      ]
     },
     "metadata": {},
     "output_type": "display_data"
    }
   ],
   "source": [
    "history_df.loc[:, ['mse', 'val_mse']].plot()"
   ]
  },
  {
   "cell_type": "code",
   "execution_count": 35,
   "metadata": {},
   "outputs": [
    {
     "name": "stdout",
     "output_type": "stream",
     "text": [
      "   windspeed\n",
      "0       4.27\n"
     ]
    }
   ],
   "source": [
    "# Creating a dictionary with the input values\n",
    "data = {'windspeed': [4.27]}\n",
    "\n",
    "# Converting the dictionary into a pandas DataFrame\n",
    "X = pd.DataFrame(data)\n",
    "print(X)"
   ]
  },
  {
   "cell_type": "code",
   "execution_count": 36,
   "metadata": {},
   "outputs": [
    {
     "name": "stdout",
     "output_type": "stream",
     "text": [
      "1/1 [==============================] - 0s 19ms/step\n"
     ]
    },
    {
     "data": {
      "text/plain": [
       "array([[271.90594 ,  16.659637]], dtype=float32)"
      ]
     },
     "execution_count": 36,
     "metadata": {},
     "output_type": "execute_result"
    }
   ],
   "source": [
    "modelwind.predict(X)"
   ]
  },
  {
   "cell_type": "code",
   "execution_count": 38,
   "metadata": {},
   "outputs": [],
   "source": [
    "import pickle\n",
    "\n",
    "Pkl_Filename = \"saved_wind_model.pkl\"  \n",
    "\n",
    "with open(Pkl_Filename, 'wb') as file:  \n",
    "    pickle.dump(modelwind, file)\n"
   ]
  }
 ],
 "metadata": {
  "kernelspec": {
   "display_name": "Python 3",
   "language": "python",
   "name": "python3"
  },
  "language_info": {
   "codemirror_mode": {
    "name": "ipython",
    "version": 3
   },
   "file_extension": ".py",
   "mimetype": "text/x-python",
   "name": "python",
   "nbconvert_exporter": "python",
   "pygments_lexer": "ipython3",
   "version": "3.11.9"
  }
 },
 "nbformat": 4,
 "nbformat_minor": 2
}
