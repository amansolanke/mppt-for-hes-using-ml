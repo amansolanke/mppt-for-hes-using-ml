{
 "cells": [
  {
   "cell_type": "code",
   "execution_count": 1,
   "metadata": {},
   "outputs": [
    {
     "name": "stdout",
     "output_type": "stream",
     "text": [
      "WARNING:tensorflow:From C:\\Users\\amans\\AppData\\Local\\Packages\\PythonSoftwareFoundation.Python.3.11_qbz5n2kfra8p0\\LocalCache\\local-packages\\Python311\\site-packages\\keras\\src\\losses.py:2976: The name tf.losses.sparse_softmax_cross_entropy is deprecated. Please use tf.compat.v1.losses.sparse_softmax_cross_entropy instead.\n",
      "\n"
     ]
    }
   ],
   "source": [
    "import numpy as np\n",
    "import pandas as pd\n",
    "import tensorflow as tf\n",
    "import scipy\n",
    "from tensorflow import keras\n",
    "from tensorflow.keras import layers\n",
    "from tensorflow.keras import callbacks\n",
    "from tensorflow.keras import Sequential\n",
    "from sklearn.model_selection import train_test_split"
   ]
  },
  {
   "cell_type": "code",
   "execution_count": 2,
   "metadata": {},
   "outputs": [
    {
     "data": {
      "text/html": [
       "<div>\n",
       "<style scoped>\n",
       "    .dataframe tbody tr th:only-of-type {\n",
       "        vertical-align: middle;\n",
       "    }\n",
       "\n",
       "    .dataframe tbody tr th {\n",
       "        vertical-align: top;\n",
       "    }\n",
       "\n",
       "    .dataframe thead th {\n",
       "        text-align: right;\n",
       "    }\n",
       "</style>\n",
       "<table border=\"1\" class=\"dataframe\">\n",
       "  <thead>\n",
       "    <tr style=\"text-align: right;\">\n",
       "      <th></th>\n",
       "      <th>YEAR</th>\n",
       "      <th>MO</th>\n",
       "      <th>DY</th>\n",
       "      <th>HR</th>\n",
       "      <th>TIMESTAMP</th>\n",
       "      <th>G</th>\n",
       "      <th>T</th>\n",
       "      <th>MPP_Voltage</th>\n",
       "      <th>MPP_Power</th>\n",
       "    </tr>\n",
       "  </thead>\n",
       "  <tbody>\n",
       "    <tr>\n",
       "      <th>0</th>\n",
       "      <td>2001</td>\n",
       "      <td>1</td>\n",
       "      <td>1</td>\n",
       "      <td>6</td>\n",
       "      <td>01-01-2001 06:00</td>\n",
       "      <td>39.88</td>\n",
       "      <td>19.13</td>\n",
       "      <td>22.5</td>\n",
       "      <td>5.760613</td>\n",
       "    </tr>\n",
       "    <tr>\n",
       "      <th>1</th>\n",
       "      <td>2001</td>\n",
       "      <td>1</td>\n",
       "      <td>1</td>\n",
       "      <td>7</td>\n",
       "      <td>01-01-2001 07:00</td>\n",
       "      <td>213.85</td>\n",
       "      <td>22.31</td>\n",
       "      <td>25.1</td>\n",
       "      <td>39.789820</td>\n",
       "    </tr>\n",
       "    <tr>\n",
       "      <th>2</th>\n",
       "      <td>2001</td>\n",
       "      <td>1</td>\n",
       "      <td>1</td>\n",
       "      <td>8</td>\n",
       "      <td>01-01-2001 08:00</td>\n",
       "      <td>415.99</td>\n",
       "      <td>25.26</td>\n",
       "      <td>25.7</td>\n",
       "      <td>80.342079</td>\n",
       "    </tr>\n",
       "    <tr>\n",
       "      <th>3</th>\n",
       "      <td>2001</td>\n",
       "      <td>1</td>\n",
       "      <td>1</td>\n",
       "      <td>9</td>\n",
       "      <td>01-01-2001 09:00</td>\n",
       "      <td>549.76</td>\n",
       "      <td>27.73</td>\n",
       "      <td>25.7</td>\n",
       "      <td>106.608227</td>\n",
       "    </tr>\n",
       "    <tr>\n",
       "      <th>4</th>\n",
       "      <td>2001</td>\n",
       "      <td>1</td>\n",
       "      <td>1</td>\n",
       "      <td>10</td>\n",
       "      <td>01-01-2001 10:00</td>\n",
       "      <td>561.09</td>\n",
       "      <td>29.84</td>\n",
       "      <td>25.4</td>\n",
       "      <td>107.851858</td>\n",
       "    </tr>\n",
       "  </tbody>\n",
       "</table>\n",
       "</div>"
      ],
      "text/plain": [
       "   YEAR  MO  DY  HR         TIMESTAMP       G      T  MPP_Voltage   MPP_Power\n",
       "0  2001   1   1   6  01-01-2001 06:00   39.88  19.13         22.5    5.760613\n",
       "1  2001   1   1   7  01-01-2001 07:00  213.85  22.31         25.1   39.789820\n",
       "2  2001   1   1   8  01-01-2001 08:00  415.99  25.26         25.7   80.342079\n",
       "3  2001   1   1   9  01-01-2001 09:00  549.76  27.73         25.7  106.608227\n",
       "4  2001   1   1  10  01-01-2001 10:00  561.09  29.84         25.4  107.851858"
      ]
     },
     "execution_count": 2,
     "metadata": {},
     "output_type": "execute_result"
    }
   ],
   "source": [
    "datapv = pd.read_csv('data_with_mpp.csv')\n",
    "datapv.head()"
   ]
  },
  {
   "cell_type": "code",
   "execution_count": 3,
   "metadata": {},
   "outputs": [
    {
     "data": {
      "text/html": [
       "<div>\n",
       "<style scoped>\n",
       "    .dataframe tbody tr th:only-of-type {\n",
       "        vertical-align: middle;\n",
       "    }\n",
       "\n",
       "    .dataframe tbody tr th {\n",
       "        vertical-align: top;\n",
       "    }\n",
       "\n",
       "    .dataframe thead th {\n",
       "        text-align: right;\n",
       "    }\n",
       "</style>\n",
       "<table border=\"1\" class=\"dataframe\">\n",
       "  <thead>\n",
       "    <tr style=\"text-align: right;\">\n",
       "      <th></th>\n",
       "      <th>G</th>\n",
       "      <th>T</th>\n",
       "      <th>MPP_Voltage</th>\n",
       "      <th>MPP_Power</th>\n",
       "    </tr>\n",
       "  </thead>\n",
       "  <tbody>\n",
       "    <tr>\n",
       "      <th>0</th>\n",
       "      <td>39.88</td>\n",
       "      <td>19.13</td>\n",
       "      <td>22.5</td>\n",
       "      <td>5.760613</td>\n",
       "    </tr>\n",
       "    <tr>\n",
       "      <th>1</th>\n",
       "      <td>213.85</td>\n",
       "      <td>22.31</td>\n",
       "      <td>25.1</td>\n",
       "      <td>39.789820</td>\n",
       "    </tr>\n",
       "    <tr>\n",
       "      <th>2</th>\n",
       "      <td>415.99</td>\n",
       "      <td>25.26</td>\n",
       "      <td>25.7</td>\n",
       "      <td>80.342079</td>\n",
       "    </tr>\n",
       "    <tr>\n",
       "      <th>3</th>\n",
       "      <td>549.76</td>\n",
       "      <td>27.73</td>\n",
       "      <td>25.7</td>\n",
       "      <td>106.608227</td>\n",
       "    </tr>\n",
       "    <tr>\n",
       "      <th>4</th>\n",
       "      <td>561.09</td>\n",
       "      <td>29.84</td>\n",
       "      <td>25.4</td>\n",
       "      <td>107.851858</td>\n",
       "    </tr>\n",
       "  </tbody>\n",
       "</table>\n",
       "</div>"
      ],
      "text/plain": [
       "        G      T  MPP_Voltage   MPP_Power\n",
       "0   39.88  19.13         22.5    5.760613\n",
       "1  213.85  22.31         25.1   39.789820\n",
       "2  415.99  25.26         25.7   80.342079\n",
       "3  549.76  27.73         25.7  106.608227\n",
       "4  561.09  29.84         25.4  107.851858"
      ]
     },
     "execution_count": 3,
     "metadata": {},
     "output_type": "execute_result"
    }
   ],
   "source": [
    "datapv = datapv.drop('YEAR', axis = 1)\n",
    "datapv = datapv.drop('MO', axis = 1)\n",
    "datapv = datapv.drop('DY', axis = 1)\n",
    "datapv = datapv.drop('HR', axis = 1)\n",
    "datapv = datapv.drop('TIMESTAMP', axis = 1)\n",
    "\n",
    "datapv.head()"
   ]
  },
  {
   "cell_type": "code",
   "execution_count": 4,
   "metadata": {},
   "outputs": [
    {
     "name": "stdout",
     "output_type": "stream",
     "text": [
      "<class 'pandas.core.frame.DataFrame'>\n",
      "RangeIndex: 102587 entries, 0 to 102586\n",
      "Data columns (total 2 columns):\n",
      " #   Column  Non-Null Count   Dtype  \n",
      "---  ------  --------------   -----  \n",
      " 0   G       102587 non-null  float64\n",
      " 1   T       102587 non-null  float64\n",
      "dtypes: float64(2)\n",
      "memory usage: 1.6 MB\n",
      "<class 'pandas.core.frame.DataFrame'>\n",
      "RangeIndex: 102587 entries, 0 to 102586\n",
      "Data columns (total 2 columns):\n",
      " #   Column       Non-Null Count   Dtype  \n",
      "---  ------       --------------   -----  \n",
      " 0   MPP_Voltage  102587 non-null  float64\n",
      " 1   MPP_Power    102587 non-null  float64\n",
      "dtypes: float64(2)\n",
      "memory usage: 1.6 MB\n",
      "<class 'pandas.core.frame.DataFrame'>\n",
      "Index: 76940 entries, 98067 to 23651\n",
      "Data columns (total 2 columns):\n",
      " #   Column  Non-Null Count  Dtype  \n",
      "---  ------  --------------  -----  \n",
      " 0   G       76940 non-null  float64\n",
      " 1   T       76940 non-null  float64\n",
      "dtypes: float64(2)\n",
      "memory usage: 1.8 MB\n",
      "<class 'pandas.core.frame.DataFrame'>\n",
      "Index: 25647 entries, 50473 to 9860\n",
      "Data columns (total 2 columns):\n",
      " #   Column  Non-Null Count  Dtype  \n",
      "---  ------  --------------  -----  \n",
      " 0   G       25647 non-null  float64\n",
      " 1   T       25647 non-null  float64\n",
      "dtypes: float64(2)\n",
      "memory usage: 601.1 KB\n",
      "<class 'pandas.core.frame.DataFrame'>\n",
      "Index: 76940 entries, 98067 to 23651\n",
      "Data columns (total 2 columns):\n",
      " #   Column       Non-Null Count  Dtype  \n",
      "---  ------       --------------  -----  \n",
      " 0   MPP_Voltage  76940 non-null  float64\n",
      " 1   MPP_Power    76940 non-null  float64\n",
      "dtypes: float64(2)\n",
      "memory usage: 1.8 MB\n",
      "<class 'pandas.core.frame.DataFrame'>\n",
      "Index: 25647 entries, 50473 to 9860\n",
      "Data columns (total 2 columns):\n",
      " #   Column       Non-Null Count  Dtype  \n",
      "---  ------       --------------  -----  \n",
      " 0   MPP_Voltage  25647 non-null  float64\n",
      " 1   MPP_Power    25647 non-null  float64\n",
      "dtypes: float64(2)\n",
      "memory usage: 601.1 KB\n"
     ]
    }
   ],
   "source": [
    "Ypv = datapv[[\"MPP_Voltage\", \"MPP_Power\"]]\n",
    "Xpv = datapv[[\"G\", \"T\"]]\n",
    "Xpv.info()\n",
    "Ypv.info()\n",
    "\n",
    "Xpv_train, Xpv_test, Ypv_train, Ypv_test = train_test_split(Xpv,Ypv,train_size = 0.75)\n",
    "\n",
    "Xpv_train.info()\n",
    "Xpv_test.info()\n",
    "Ypv_train.info()\n",
    "Ypv_test.info()"
   ]
  },
  {
   "cell_type": "code",
   "execution_count": 5,
   "metadata": {},
   "outputs": [
    {
     "name": "stdout",
     "output_type": "stream",
     "text": [
      "WARNING:tensorflow:From C:\\Users\\amans\\AppData\\Local\\Packages\\PythonSoftwareFoundation.Python.3.11_qbz5n2kfra8p0\\LocalCache\\local-packages\\Python311\\site-packages\\keras\\src\\backend.py:873: The name tf.get_default_graph is deprecated. Please use tf.compat.v1.get_default_graph instead.\n",
      "\n",
      "WARNING:tensorflow:From C:\\Users\\amans\\AppData\\Local\\Packages\\PythonSoftwareFoundation.Python.3.11_qbz5n2kfra8p0\\LocalCache\\local-packages\\Python311\\site-packages\\keras\\src\\optimizers\\__init__.py:309: The name tf.train.Optimizer is deprecated. Please use tf.compat.v1.train.Optimizer instead.\n",
      "\n",
      "Epoch 1/100\n",
      "WARNING:tensorflow:From C:\\Users\\amans\\AppData\\Local\\Packages\\PythonSoftwareFoundation.Python.3.11_qbz5n2kfra8p0\\LocalCache\\local-packages\\Python311\\site-packages\\keras\\src\\utils\\tf_utils.py:492: The name tf.ragged.RaggedTensorValue is deprecated. Please use tf.compat.v1.ragged.RaggedTensorValue instead.\n",
      "\n",
      "WARNING:tensorflow:From C:\\Users\\amans\\AppData\\Local\\Packages\\PythonSoftwareFoundation.Python.3.11_qbz5n2kfra8p0\\LocalCache\\local-packages\\Python311\\site-packages\\keras\\src\\engine\\base_layer_utils.py:384: The name tf.executing_eagerly_outside_functions is deprecated. Please use tf.compat.v1.executing_eagerly_outside_functions instead.\n",
      "\n",
      "1539/1539 [==============================] - 5s 2ms/step - loss: 5.2329 - mse: 130.1574 - val_loss: 4.6143 - val_mse: 102.8278\n",
      "Epoch 2/100\n",
      "1539/1539 [==============================] - 2s 2ms/step - loss: 4.6682 - mse: 97.2638 - val_loss: 4.6450 - val_mse: 96.4320\n",
      "Epoch 3/100\n",
      "1539/1539 [==============================] - 3s 2ms/step - loss: 4.3118 - mse: 89.5744 - val_loss: 4.1875 - val_mse: 79.2591\n",
      "Epoch 4/100\n",
      "1539/1539 [==============================] - 2s 2ms/step - loss: 4.0536 - mse: 75.7303 - val_loss: 4.5117 - val_mse: 123.9876\n",
      "Epoch 5/100\n",
      "1539/1539 [==============================] - 2s 2ms/step - loss: 3.7392 - mse: 64.9637 - val_loss: 4.1110 - val_mse: 61.7574\n",
      "Epoch 6/100\n",
      "1539/1539 [==============================] - 2s 2ms/step - loss: 3.4013 - mse: 52.7195 - val_loss: 2.4881 - val_mse: 22.1978\n",
      "Epoch 7/100\n",
      "1539/1539 [==============================] - 3s 2ms/step - loss: 2.9089 - mse: 42.2545 - val_loss: 2.7801 - val_mse: 39.6859\n",
      "Epoch 8/100\n",
      "1539/1539 [==============================] - 2s 2ms/step - loss: 2.1265 - mse: 22.7378 - val_loss: 2.2040 - val_mse: 23.7829\n",
      "Epoch 9/100\n",
      "1539/1539 [==============================] - 2s 1ms/step - loss: 1.8931 - mse: 17.9445 - val_loss: 1.8750 - val_mse: 18.7264\n",
      "Epoch 10/100\n",
      "1539/1539 [==============================] - 2s 2ms/step - loss: 1.8592 - mse: 17.9522 - val_loss: 1.8611 - val_mse: 11.6751\n",
      "Epoch 11/100\n",
      "1539/1539 [==============================] - 2s 2ms/step - loss: 1.8415 - mse: 17.8759 - val_loss: 1.5728 - val_mse: 13.1320\n",
      "Epoch 12/100\n",
      "1539/1539 [==============================] - 3s 2ms/step - loss: 1.7871 - mse: 16.9187 - val_loss: 1.4740 - val_mse: 11.3862\n",
      "Epoch 13/100\n",
      "1539/1539 [==============================] - 2s 2ms/step - loss: 1.8221 - mse: 17.9749 - val_loss: 2.2708 - val_mse: 26.1685\n",
      "Epoch 14/100\n",
      "1539/1539 [==============================] - 3s 2ms/step - loss: 1.7406 - mse: 16.4157 - val_loss: 1.4714 - val_mse: 14.7505\n",
      "Epoch 15/100\n",
      "1539/1539 [==============================] - 2s 2ms/step - loss: 1.7841 - mse: 17.6033 - val_loss: 1.9062 - val_mse: 14.6541\n",
      "Epoch 16/100\n",
      "1539/1539 [==============================] - 2s 2ms/step - loss: 1.7584 - mse: 16.9853 - val_loss: 1.3595 - val_mse: 11.0659\n",
      "Epoch 17/100\n",
      "1539/1539 [==============================] - 2s 1ms/step - loss: 1.6939 - mse: 16.0344 - val_loss: 1.5993 - val_mse: 11.5668\n",
      "Epoch 18/100\n",
      "1539/1539 [==============================] - 2s 1ms/step - loss: 1.6348 - mse: 15.1068 - val_loss: 1.5305 - val_mse: 16.4335\n",
      "Epoch 19/100\n",
      "1539/1539 [==============================] - 2s 2ms/step - loss: 1.6473 - mse: 15.3681 - val_loss: 1.7204 - val_mse: 13.8607\n",
      "Epoch 20/100\n",
      "1539/1539 [==============================] - 2s 1ms/step - loss: 1.6297 - mse: 15.1354 - val_loss: 1.5150 - val_mse: 13.5894\n",
      "Epoch 21/100\n",
      "1539/1539 [==============================] - 3s 2ms/step - loss: 1.6591 - mse: 15.4476 - val_loss: 1.4813 - val_mse: 11.4539\n",
      "Epoch 22/100\n",
      "1539/1539 [==============================] - 3s 2ms/step - loss: 1.6428 - mse: 15.2989 - val_loss: 1.3624 - val_mse: 11.6840\n",
      "Epoch 23/100\n",
      "1539/1539 [==============================] - 3s 2ms/step - loss: 1.6640 - mse: 15.5486 - val_loss: 1.4315 - val_mse: 10.7878\n",
      "Epoch 24/100\n",
      "1539/1539 [==============================] - 3s 2ms/step - loss: 1.6593 - mse: 15.6719 - val_loss: 2.2950 - val_mse: 26.0410\n",
      "Epoch 25/100\n",
      "1539/1539 [==============================] - 5s 3ms/step - loss: 1.6094 - mse: 15.1361 - val_loss: 1.4973 - val_mse: 12.1873\n",
      "Epoch 26/100\n",
      "1539/1539 [==============================] - 6s 4ms/step - loss: 1.6096 - mse: 14.9753 - val_loss: 2.1513 - val_mse: 22.5036\n",
      "Epoch 27/100\n",
      "1539/1539 [==============================] - 6s 4ms/step - loss: 1.5965 - mse: 14.6916 - val_loss: 1.5118 - val_mse: 15.4876\n",
      "Epoch 28/100\n",
      "1539/1539 [==============================] - 5s 3ms/step - loss: 1.5822 - mse: 14.6431 - val_loss: 1.3442 - val_mse: 12.4372\n",
      "Epoch 29/100\n",
      "1539/1539 [==============================] - 6s 4ms/step - loss: 1.5738 - mse: 14.5548 - val_loss: 1.4713 - val_mse: 13.5648\n",
      "Epoch 30/100\n",
      "1539/1539 [==============================] - 2s 2ms/step - loss: 1.5987 - mse: 14.8196 - val_loss: 2.1554 - val_mse: 23.1105\n",
      "Epoch 31/100\n",
      "1539/1539 [==============================] - 2s 2ms/step - loss: 1.5373 - mse: 13.9257 - val_loss: 1.2614 - val_mse: 10.9533\n",
      "Epoch 32/100\n",
      "1539/1539 [==============================] - 3s 2ms/step - loss: 1.5334 - mse: 13.9323 - val_loss: 1.3049 - val_mse: 11.5198\n",
      "Epoch 33/100\n",
      "1539/1539 [==============================] - 3s 2ms/step - loss: 1.4886 - mse: 13.5682 - val_loss: 1.3568 - val_mse: 10.9819\n",
      "Epoch 34/100\n",
      "1539/1539 [==============================] - 3s 2ms/step - loss: 1.5287 - mse: 14.2139 - val_loss: 1.2763 - val_mse: 10.9409\n",
      "Epoch 35/100\n",
      "1539/1539 [==============================] - 2s 2ms/step - loss: 1.5146 - mse: 13.8010 - val_loss: 1.4495 - val_mse: 10.6872\n",
      "Epoch 36/100\n",
      "1539/1539 [==============================] - 2s 2ms/step - loss: 1.5077 - mse: 13.6814 - val_loss: 1.5266 - val_mse: 13.3888\n",
      "Epoch 37/100\n",
      "1539/1539 [==============================] - 3s 2ms/step - loss: 1.5149 - mse: 14.0342 - val_loss: 2.1110 - val_mse: 25.1987\n",
      "Epoch 38/100\n",
      "1539/1539 [==============================] - 3s 2ms/step - loss: 1.5297 - mse: 13.9797 - val_loss: 1.8084 - val_mse: 18.2611\n",
      "Epoch 39/100\n",
      "1539/1539 [==============================] - 3s 2ms/step - loss: 1.5259 - mse: 13.9630 - val_loss: 1.2694 - val_mse: 10.6085\n",
      "Epoch 40/100\n",
      "1539/1539 [==============================] - 3s 2ms/step - loss: 1.5487 - mse: 14.3569 - val_loss: 1.6284 - val_mse: 11.8216\n",
      "Epoch 41/100\n",
      "1539/1539 [==============================] - 3s 2ms/step - loss: 1.4868 - mse: 13.6610 - val_loss: 1.2676 - val_mse: 11.4011\n",
      "Epoch 42/100\n",
      "1539/1539 [==============================] - 3s 2ms/step - loss: 1.5328 - mse: 14.3555 - val_loss: 1.5542 - val_mse: 13.0240\n",
      "Epoch 43/100\n",
      "1539/1539 [==============================] - 3s 2ms/step - loss: 1.4823 - mse: 13.6380 - val_loss: 1.8271 - val_mse: 17.5194\n",
      "Epoch 44/100\n",
      "1539/1539 [==============================] - 3s 2ms/step - loss: 1.4687 - mse: 13.3866 - val_loss: 1.7272 - val_mse: 11.8873\n",
      "Epoch 45/100\n",
      "1539/1539 [==============================] - 2s 2ms/step - loss: 1.5213 - mse: 14.1820 - val_loss: 1.3739 - val_mse: 12.3466\n",
      "Epoch 46/100\n",
      "1539/1539 [==============================] - 3s 2ms/step - loss: 1.4879 - mse: 13.7498 - val_loss: 1.3528 - val_mse: 11.1774\n"
     ]
    }
   ],
   "source": [
    "model = keras.Sequential([\n",
    "    layers.Dense(units = 100, activation = 'relu', input_shape = [2]),\n",
    "    layers.Dense(units = 100, activation = 'relu'),\n",
    "    layers.Dense(units = 100, activation = 'relu'),\n",
    "    layers.Dense(units = 2, activation = 'linear')\n",
    "])\n",
    "\n",
    "model.compile(\n",
    "    optimizer = 'adam',\n",
    "    loss = 'mae',\n",
    "    metrics = ['mse']\n",
    ")\n",
    "\n",
    "early_stopping = callbacks.EarlyStopping(\n",
    "    min_delta = 0.001,\n",
    "    patience = 15,\n",
    "    restore_best_weights = True\n",
    ")\n",
    "\n",
    "history = model.fit(\n",
    "    Xpv_train, Ypv_train,\n",
    "    validation_data = (Xpv_test, Ypv_test),\n",
    "    batch_size = 50,\n",
    "    epochs = 100,\n",
    "    callbacks = [early_stopping]\n",
    ")"
   ]
  },
  {
   "cell_type": "code",
   "execution_count": 6,
   "metadata": {},
   "outputs": [
    {
     "data": {
      "text/plain": [
       "<Axes: >"
      ]
     },
     "execution_count": 6,
     "metadata": {},
     "output_type": "execute_result"
    },
    {
     "data": {
      "image/png": "[encoded data removed]",
      "text/plain": [
       "<Figure size 640x480 with 1 Axes>"
      ]
     },
     "metadata": {},
     "output_type": "display_data"
    }
   ],
   "source": [
    "import matplotlib as plt\n",
    "%matplotlib inline\n",
    "\n",
    "history_df = pd.DataFrame(history.history)\n",
    "history_df.loc[:, ['loss', 'val_loss']].plot()"
   ]
  },
  {
   "cell_type": "code",
   "execution_count": 7,
   "metadata": {},
   "outputs": [
    {
     "data": {
      "text/plain": [
       "<Axes: >"
      ]
     },
     "execution_count": 7,
     "metadata": {},
     "output_type": "execute_result"
    },
    {
     "data": {
      "image/png": "[encoded data removed]",
      "text/plain": [
       "<Figure size 640x480 with 1 Axes>"
      ]
     },
     "metadata": {},
     "output_type": "display_data"
    }
   ],
   "source": [
    "history_df.loc[:, ['mse', 'val_mse']].plot()"
   ]
  },
  {
   "cell_type": "code",
   "execution_count": 8,
   "metadata": {},
   "outputs": [],
   "source": [
    "import pickle \n",
    "  \n",
    "# Save the trained model as a pickle string. \n",
    "saved_model = pickle.dumps(model) "
   ]
  },
  {
   "cell_type": "code",
   "execution_count": 10,
   "metadata": {},
   "outputs": [],
   "source": [
    "Pkl_Filename = \"saved_model.pkl\"  \n",
    "\n",
    "with open(Pkl_Filename, 'wb') as file:  \n",
    "    pickle.dump(model, file)\n"
   ]
  }
 ],
 "metadata": {
  "kernelspec": {
   "display_name": "Python 3",
   "language": "python",
   "name": "python3"
  },
  "language_info": {
   "codemirror_mode": {
    "name": "ipython",
    "version": 3
   },
   "file_extension": ".py",
   "mimetype": "text/x-python",
   "name": "python",
   "nbconvert_exporter": "python",
   "pygments_lexer": "ipython3",
   "version": "3.12.0"
  }
 },
 "nbformat": 4,
 "nbformat_minor": 2
}
